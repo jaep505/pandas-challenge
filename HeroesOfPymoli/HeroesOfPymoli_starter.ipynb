{
 "cells": [
  {
   "cell_type": "markdown",
   "metadata": {},
   "source": [
    "### Note\n",
    "* Instructions have been included for each segment. You do not have to follow them exactly, but they are included to help you think through the steps."
   ]
  },
  {
   "cell_type": "code",
   "execution_count": 1,
   "metadata": {},
   "outputs": [],
   "source": [
    "# Dependencies and Setup\n",
    "import pandas as pd\n",
    "\n",
    "# File to Load (Remember to Change These)\n",
    "file_to_load = \"Resources/purchase_data.csv\"\n",
    "\n",
    "# Read Purchasing File and store into Pandas data frame\n",
    "purchase_data = pd.read_csv(file_to_load)"
   ]
  },
  {
   "cell_type": "markdown",
   "metadata": {},
   "source": [
    "## Player Count"
   ]
  },
  {
   "cell_type": "markdown",
   "metadata": {},
   "source": [
    "* Display the total number of players\n"
   ]
  },
  {
   "cell_type": "code",
   "execution_count": 2,
   "metadata": {},
   "outputs": [
    {
     "data": {
      "text/html": [
       "<div>\n",
       "<style scoped>\n",
       "    .dataframe tbody tr th:only-of-type {\n",
       "        vertical-align: middle;\n",
       "    }\n",
       "\n",
       "    .dataframe tbody tr th {\n",
       "        vertical-align: top;\n",
       "    }\n",
       "\n",
       "    .dataframe thead th {\n",
       "        text-align: right;\n",
       "    }\n",
       "</style>\n",
       "<table border=\"1\" class=\"dataframe\">\n",
       "  <thead>\n",
       "    <tr style=\"text-align: right;\">\n",
       "      <th></th>\n",
       "      <th>Total Players</th>\n",
       "    </tr>\n",
       "  </thead>\n",
       "  <tbody>\n",
       "    <tr>\n",
       "      <th>0</th>\n",
       "      <td>576</td>\n",
       "    </tr>\n",
       "  </tbody>\n",
       "</table>\n",
       "</div>"
      ],
      "text/plain": [
       "   Total Players\n",
       "0            576"
      ]
     },
     "execution_count": 2,
     "metadata": {},
     "output_type": "execute_result"
    }
   ],
   "source": [
    "#use value_counts to get unique values from 'SN' and use len() to get a single integer count\n",
    "unique_player_count = len(purchase_data['SN'].value_counts())\n",
    "\n",
    "#new dataframe for total number of players count\n",
    "total_player_count = pd.DataFrame({\"Total Players\":[unique_player_count]})\n",
    "total_player_count"
   ]
  },
  {
   "cell_type": "markdown",
   "metadata": {},
   "source": [
    "## Purchasing Analysis (Total)"
   ]
  },
  {
   "cell_type": "markdown",
   "metadata": {},
   "source": [
    "* Run basic calculations to obtain number of unique items, average price, etc.\n",
    "\n",
    "\n",
    "* Create a summary data frame to hold the results\n",
    "\n",
    "\n",
    "* Optional: give the displayed data cleaner formatting\n",
    "\n",
    "\n",
    "* Display the summary data frame\n"
   ]
  },
  {
   "cell_type": "code",
   "execution_count": 3,
   "metadata": {
    "scrolled": true
   },
   "outputs": [
    {
     "data": {
      "text/html": [
       "<style  type=\"text/css\" >\n",
       "</style><table id=\"T_ee526092_27a3_11ec_83ce_00d8610f0335\" ><thead>    <tr>        <th class=\"blank level0\" ></th>        <th class=\"col_heading level0 col0\" >Number of Unique Items</th>        <th class=\"col_heading level0 col1\" >Average Price</th>        <th class=\"col_heading level0 col2\" >Number of Purchases</th>        <th class=\"col_heading level0 col3\" >Total Revenue</th>    </tr></thead><tbody>\n",
       "                <tr>\n",
       "                        <th id=\"T_ee526092_27a3_11ec_83ce_00d8610f0335level0_row0\" class=\"row_heading level0 row0\" >0</th>\n",
       "                        <td id=\"T_ee526092_27a3_11ec_83ce_00d8610f0335row0_col0\" class=\"data row0 col0\" >179</td>\n",
       "                        <td id=\"T_ee526092_27a3_11ec_83ce_00d8610f0335row0_col1\" class=\"data row0 col1\" >$3.05</td>\n",
       "                        <td id=\"T_ee526092_27a3_11ec_83ce_00d8610f0335row0_col2\" class=\"data row0 col2\" >780</td>\n",
       "                        <td id=\"T_ee526092_27a3_11ec_83ce_00d8610f0335row0_col3\" class=\"data row0 col3\" >$2,379.77</td>\n",
       "            </tr>\n",
       "    </tbody></table>"
      ],
      "text/plain": [
       "<pandas.io.formats.style.Styler at 0x26a9ee19be0>"
      ]
     },
     "execution_count": 3,
     "metadata": {},
     "output_type": "execute_result"
    }
   ],
   "source": [
    "#using .unique() to obtain unique number of the unique items and using len() to get a single integer value\n",
    "unique_item_count = len(purchase_data[\"Item ID\"].unique())\n",
    "\n",
    "#using the .mean() for average of price column\n",
    "average_price = purchase_data[\"Price\"].mean()\n",
    "\n",
    "#using .count() to obtain the number of purchases\n",
    "purchase_number = purchase_data[\"Purchase ID\"].count()\n",
    "\n",
    "#using .sum() on Price column to get the sum of all sales\n",
    "total_revenue = purchase_data[\"Price\"].sum()\n",
    "\n",
    "#creating a separate Data Frame for the obtained values above\n",
    "purchasing_df = pd.DataFrame({\"Number of Unique Items\":[unique_item_count], \"Average Price\":[average_price],\n",
    "                             \"Number of Purchases\":[purchase_number], \"Total Revenue\":[total_revenue]})\n",
    "\n",
    "#formatting for cleaner data visuals\n",
    "purchasing_df.style.format({\"Average Price\":\"${:,.2f}\", \"Total Revenue\":\"${:,.2f}\"})\n"
   ]
  },
  {
   "cell_type": "markdown",
   "metadata": {},
   "source": [
    "## Gender Demographics"
   ]
  },
  {
   "cell_type": "markdown",
   "metadata": {},
   "source": [
    "* Percentage and Count of Male Players\n",
    "\n",
    "\n",
    "* Percentage and Count of Female Players\n",
    "\n",
    "\n",
    "* Percentage and Count of Other / Non-Disclosed\n",
    "\n",
    "\n"
   ]
  },
  {
   "cell_type": "code",
   "execution_count": 4,
   "metadata": {},
   "outputs": [
    {
     "data": {
      "text/html": [
       "<style  type=\"text/css\" >\n",
       "</style><table id=\"T_ee5888a6_27a3_11ec_b096_00d8610f0335\" ><thead>    <tr>        <th class=\"blank level0\" ></th>        <th class=\"col_heading level0 col0\" >Total Count</th>        <th class=\"col_heading level0 col1\" >Percentage of Players</th>    </tr>    <tr>        <th class=\"index_name level0\" >Gender</th>        <th class=\"blank\" ></th>        <th class=\"blank\" ></th>    </tr></thead><tbody>\n",
       "                <tr>\n",
       "                        <th id=\"T_ee5888a6_27a3_11ec_b096_00d8610f0335level0_row0\" class=\"row_heading level0 row0\" >Male</th>\n",
       "                        <td id=\"T_ee5888a6_27a3_11ec_b096_00d8610f0335row0_col0\" class=\"data row0 col0\" >484</td>\n",
       "                        <td id=\"T_ee5888a6_27a3_11ec_b096_00d8610f0335row0_col1\" class=\"data row0 col1\" >84.03%</td>\n",
       "            </tr>\n",
       "            <tr>\n",
       "                        <th id=\"T_ee5888a6_27a3_11ec_b096_00d8610f0335level0_row1\" class=\"row_heading level0 row1\" >Female</th>\n",
       "                        <td id=\"T_ee5888a6_27a3_11ec_b096_00d8610f0335row1_col0\" class=\"data row1 col0\" >81</td>\n",
       "                        <td id=\"T_ee5888a6_27a3_11ec_b096_00d8610f0335row1_col1\" class=\"data row1 col1\" >14.06%</td>\n",
       "            </tr>\n",
       "            <tr>\n",
       "                        <th id=\"T_ee5888a6_27a3_11ec_b096_00d8610f0335level0_row2\" class=\"row_heading level0 row2\" >Other / Non-Disclosed</th>\n",
       "                        <td id=\"T_ee5888a6_27a3_11ec_b096_00d8610f0335row2_col0\" class=\"data row2 col0\" >11</td>\n",
       "                        <td id=\"T_ee5888a6_27a3_11ec_b096_00d8610f0335row2_col1\" class=\"data row2 col1\" >1.91%</td>\n",
       "            </tr>\n",
       "    </tbody></table>"
      ],
      "text/plain": [
       "<pandas.io.formats.style.Styler at 0x26a9ff41550>"
      ]
     },
     "execution_count": 4,
     "metadata": {},
     "output_type": "execute_result"
    }
   ],
   "source": [
    "#using .groupby() use \"Gender\" to group the dataset together\n",
    "gender_data = purchase_data.groupby(\"Gender\")\n",
    "\n",
    "#using .nunique() to get unique number of \"SN\" for the gender's since there can be duplicate \"SN\"\n",
    "gender_counts = gender_data[\"SN\"].nunique()\n",
    "\n",
    "#using arithmatic to obtain gender percentage in regular decimals\n",
    "gender_percentage = gender_counts / unique_player_count\n",
    "\n",
    "#creating a separate Data Frame for obtained values for gender demographics\n",
    "gender_demographics = pd.DataFrame({\"Total Count\": gender_counts, \"Percentage of Players\": gender_percentage})\n",
    "\n",
    "#formatting the values, sort by \"Tottal Count\" in descending and in % in 2 decimal places for \"Percentage of Players\"\n",
    "gender_demographics.sort_values([\"Total Count\"], ascending = False).style.format({\"Percentage of Players\":\"{:.2%}\"})\n"
   ]
  },
  {
   "cell_type": "markdown",
   "metadata": {},
   "source": [
    "\n",
    "## Purchasing Analysis (Gender)"
   ]
  },
  {
   "cell_type": "markdown",
   "metadata": {},
   "source": [
    "* Run basic calculations to obtain purchase count, avg. purchase price, avg. purchase total per person etc. by gender\n",
    "\n",
    "\n",
    "\n",
    "\n",
    "* Create a summary data frame to hold the results\n",
    "\n",
    "\n",
    "* Optional: give the displayed data cleaner formatting\n",
    "\n",
    "\n",
    "* Display the summary data frame"
   ]
  },
  {
   "cell_type": "code",
   "execution_count": 5,
   "metadata": {},
   "outputs": [
    {
     "data": {
      "text/html": [
       "<style  type=\"text/css\" >\n",
       "</style><table id=\"T_eece78c6_27a3_11ec_93b8_00d8610f0335\" ><thead>    <tr>        <th class=\"blank level0\" ></th>        <th class=\"col_heading level0 col0\" >Purchase Count</th>        <th class=\"col_heading level0 col1\" >Average Purchase Price</th>        <th class=\"col_heading level0 col2\" >Average Purchase Value</th>        <th class=\"col_heading level0 col3\" >Avg Purchase Total per Person</th>    </tr>    <tr>        <th class=\"index_name level0\" >Gender</th>        <th class=\"blank\" ></th>        <th class=\"blank\" ></th>        <th class=\"blank\" ></th>        <th class=\"blank\" ></th>    </tr></thead><tbody>\n",
       "                <tr>\n",
       "                        <th id=\"T_eece78c6_27a3_11ec_93b8_00d8610f0335level0_row0\" class=\"row_heading level0 row0\" >Female</th>\n",
       "                        <td id=\"T_eece78c6_27a3_11ec_93b8_00d8610f0335row0_col0\" class=\"data row0 col0\" >113</td>\n",
       "                        <td id=\"T_eece78c6_27a3_11ec_93b8_00d8610f0335row0_col1\" class=\"data row0 col1\" >$3.20</td>\n",
       "                        <td id=\"T_eece78c6_27a3_11ec_93b8_00d8610f0335row0_col2\" class=\"data row0 col2\" >$361.94</td>\n",
       "                        <td id=\"T_eece78c6_27a3_11ec_93b8_00d8610f0335row0_col3\" class=\"data row0 col3\" >$4.47</td>\n",
       "            </tr>\n",
       "            <tr>\n",
       "                        <th id=\"T_eece78c6_27a3_11ec_93b8_00d8610f0335level0_row1\" class=\"row_heading level0 row1\" >Male</th>\n",
       "                        <td id=\"T_eece78c6_27a3_11ec_93b8_00d8610f0335row1_col0\" class=\"data row1 col0\" >652</td>\n",
       "                        <td id=\"T_eece78c6_27a3_11ec_93b8_00d8610f0335row1_col1\" class=\"data row1 col1\" >$3.02</td>\n",
       "                        <td id=\"T_eece78c6_27a3_11ec_93b8_00d8610f0335row1_col2\" class=\"data row1 col2\" >$1,967.64</td>\n",
       "                        <td id=\"T_eece78c6_27a3_11ec_93b8_00d8610f0335row1_col3\" class=\"data row1 col3\" >$4.07</td>\n",
       "            </tr>\n",
       "            <tr>\n",
       "                        <th id=\"T_eece78c6_27a3_11ec_93b8_00d8610f0335level0_row2\" class=\"row_heading level0 row2\" >Other / Non-Disclosed</th>\n",
       "                        <td id=\"T_eece78c6_27a3_11ec_93b8_00d8610f0335row2_col0\" class=\"data row2 col0\" >15</td>\n",
       "                        <td id=\"T_eece78c6_27a3_11ec_93b8_00d8610f0335row2_col1\" class=\"data row2 col1\" >$3.35</td>\n",
       "                        <td id=\"T_eece78c6_27a3_11ec_93b8_00d8610f0335row2_col2\" class=\"data row2 col2\" >$50.19</td>\n",
       "                        <td id=\"T_eece78c6_27a3_11ec_93b8_00d8610f0335row2_col3\" class=\"data row2 col3\" >$4.56</td>\n",
       "            </tr>\n",
       "    </tbody></table>"
      ],
      "text/plain": [
       "<pandas.io.formats.style.Styler at 0x26a9cd79128>"
      ]
     },
     "execution_count": 5,
     "metadata": {},
     "output_type": "execute_result"
    }
   ],
   "source": [
    "#counting purchase numbers by gender using .count()\n",
    "gender_purchase = gender_data[\"Purchase ID\"].count()\n",
    "\n",
    "#getting the average purchase price by gender using .mean()\n",
    "avg_gender_purchase = gender_data[\"Price\"].mean()\n",
    "\n",
    "#getting the total purchase amount by gender using .sum()\n",
    "total_gender_purchase = gender_data[\"Price\"].sum()\n",
    "\n",
    "#getting the average purchase total per person by gender with arithmatic\n",
    "avg_purchase_total_gender = total_gender_purchase / gender_counts\n",
    "\n",
    "#creating a new Data Frame to hold the new values\n",
    "purchasing_gender_df = pd.DataFrame({\"Purchase Count\": gender_purchase, \"Average Purchase Price\": avg_gender_purchase,\n",
    "                                     \"Average Purchase Value\": total_gender_purchase, \n",
    "                                     \"Avg Purchase Total per Person\": avg_purchase_total_gender})\n",
    "\n",
    "#formatting for cleaner data visual\n",
    "purchasing_gender_df.style.format({\"Average Purchase Value\":\"${:,.2f}\",\n",
    "                                  \"Average Purchase Price\":\"${:,.2f}\",\n",
    "                                  \"Avg Purchase Total per Person\":\"${:,.2f}\"})\n"
   ]
  },
  {
   "cell_type": "markdown",
   "metadata": {},
   "source": [
    "## Age Demographics"
   ]
  },
  {
   "cell_type": "markdown",
   "metadata": {},
   "source": [
    "* Establish bins for ages\n",
    "\n",
    "\n",
    "* Categorize the existing players using the age bins. Hint: use pd.cut()\n",
    "\n",
    "\n",
    "* Calculate the numbers and percentages by age group\n",
    "\n",
    "\n",
    "* Create a summary data frame to hold the results\n",
    "\n",
    "\n",
    "* Optional: round the percentage column to two decimal points\n",
    "\n",
    "\n",
    "* Display Age Demographics Table\n"
   ]
  },
  {
   "cell_type": "code",
   "execution_count": 6,
   "metadata": {},
   "outputs": [
    {
     "data": {
      "text/html": [
       "<style  type=\"text/css\" >\n",
       "</style><table id=\"T_efacf998_27a3_11ec_a486_00d8610f0335\" ><thead>    <tr>        <th class=\"blank level0\" ></th>        <th class=\"col_heading level0 col0\" >Total Count</th>        <th class=\"col_heading level0 col1\" >Percentage of Players</th>    </tr>    <tr>        <th class=\"index_name level0\" >Age Group</th>        <th class=\"blank\" ></th>        <th class=\"blank\" ></th>    </tr></thead><tbody>\n",
       "                <tr>\n",
       "                        <th id=\"T_efacf998_27a3_11ec_a486_00d8610f0335level0_row0\" class=\"row_heading level0 row0\" ><10</th>\n",
       "                        <td id=\"T_efacf998_27a3_11ec_a486_00d8610f0335row0_col0\" class=\"data row0 col0\" >17</td>\n",
       "                        <td id=\"T_efacf998_27a3_11ec_a486_00d8610f0335row0_col1\" class=\"data row0 col1\" >2.95%</td>\n",
       "            </tr>\n",
       "            <tr>\n",
       "                        <th id=\"T_efacf998_27a3_11ec_a486_00d8610f0335level0_row1\" class=\"row_heading level0 row1\" >10-14</th>\n",
       "                        <td id=\"T_efacf998_27a3_11ec_a486_00d8610f0335row1_col0\" class=\"data row1 col0\" >22</td>\n",
       "                        <td id=\"T_efacf998_27a3_11ec_a486_00d8610f0335row1_col1\" class=\"data row1 col1\" >3.82%</td>\n",
       "            </tr>\n",
       "            <tr>\n",
       "                        <th id=\"T_efacf998_27a3_11ec_a486_00d8610f0335level0_row2\" class=\"row_heading level0 row2\" >15-19</th>\n",
       "                        <td id=\"T_efacf998_27a3_11ec_a486_00d8610f0335row2_col0\" class=\"data row2 col0\" >107</td>\n",
       "                        <td id=\"T_efacf998_27a3_11ec_a486_00d8610f0335row2_col1\" class=\"data row2 col1\" >18.58%</td>\n",
       "            </tr>\n",
       "            <tr>\n",
       "                        <th id=\"T_efacf998_27a3_11ec_a486_00d8610f0335level0_row3\" class=\"row_heading level0 row3\" >20-24</th>\n",
       "                        <td id=\"T_efacf998_27a3_11ec_a486_00d8610f0335row3_col0\" class=\"data row3 col0\" >258</td>\n",
       "                        <td id=\"T_efacf998_27a3_11ec_a486_00d8610f0335row3_col1\" class=\"data row3 col1\" >44.79%</td>\n",
       "            </tr>\n",
       "            <tr>\n",
       "                        <th id=\"T_efacf998_27a3_11ec_a486_00d8610f0335level0_row4\" class=\"row_heading level0 row4\" >25-29</th>\n",
       "                        <td id=\"T_efacf998_27a3_11ec_a486_00d8610f0335row4_col0\" class=\"data row4 col0\" >77</td>\n",
       "                        <td id=\"T_efacf998_27a3_11ec_a486_00d8610f0335row4_col1\" class=\"data row4 col1\" >13.37%</td>\n",
       "            </tr>\n",
       "            <tr>\n",
       "                        <th id=\"T_efacf998_27a3_11ec_a486_00d8610f0335level0_row5\" class=\"row_heading level0 row5\" >30-34</th>\n",
       "                        <td id=\"T_efacf998_27a3_11ec_a486_00d8610f0335row5_col0\" class=\"data row5 col0\" >52</td>\n",
       "                        <td id=\"T_efacf998_27a3_11ec_a486_00d8610f0335row5_col1\" class=\"data row5 col1\" >9.03%</td>\n",
       "            </tr>\n",
       "            <tr>\n",
       "                        <th id=\"T_efacf998_27a3_11ec_a486_00d8610f0335level0_row6\" class=\"row_heading level0 row6\" >35-39</th>\n",
       "                        <td id=\"T_efacf998_27a3_11ec_a486_00d8610f0335row6_col0\" class=\"data row6 col0\" >31</td>\n",
       "                        <td id=\"T_efacf998_27a3_11ec_a486_00d8610f0335row6_col1\" class=\"data row6 col1\" >5.38%</td>\n",
       "            </tr>\n",
       "            <tr>\n",
       "                        <th id=\"T_efacf998_27a3_11ec_a486_00d8610f0335level0_row7\" class=\"row_heading level0 row7\" >40+</th>\n",
       "                        <td id=\"T_efacf998_27a3_11ec_a486_00d8610f0335row7_col0\" class=\"data row7 col0\" >12</td>\n",
       "                        <td id=\"T_efacf998_27a3_11ec_a486_00d8610f0335row7_col1\" class=\"data row7 col1\" >2.08%</td>\n",
       "            </tr>\n",
       "    </tbody></table>"
      ],
      "text/plain": [
       "<pandas.io.formats.style.Styler at 0x26a9ff79630>"
      ]
     },
     "execution_count": 6,
     "metadata": {},
     "output_type": "execute_result"
    }
   ],
   "source": [
    "#setting bins for ages\n",
    "age_bins = [0, 9.9, 14.9, 19.9, 24.9, 29.9, 34.9, 39.9, 255]\n",
    "group_names = [\"<10\", \"10-14\", \"15-19\", \"20-24\", \"25-29\", \"30-34\", \"35-39\", \"40+\"]\n",
    "\n",
    "#categorizing players by age using pd.cut\n",
    "purchase_data[\"Age Group\"] = pd.cut(purchase_data[\"Age\"],age_bins, labels=group_names)\n",
    "\n",
    "#creating a new Data Frame and group by with the newly created \"Age Group\"\n",
    "age_group = purchase_data.groupby(\"Age Group\")\n",
    "\n",
    "#count players by age using .nunique()\n",
    "age_count = age_group[\"SN\"].nunique()\n",
    "\n",
    "#percentage of players by age using arithmatic\n",
    "age_percentage = age_count / unique_player_count\n",
    "\n",
    "#creating a new Data Frame for new obtained age values above\n",
    "age_demo = pd.DataFrame({\"Total Count\": age_count, \"Percentage of Players\": age_percentage})\n",
    "\n",
    "#formatting for cleaner data visuals\n",
    "age_demo.style.format({\"Percentage of Players\":\"{:,.2%}\"})\n"
   ]
  },
  {
   "cell_type": "markdown",
   "metadata": {},
   "source": [
    "## Purchasing Analysis (Age)"
   ]
  },
  {
   "cell_type": "markdown",
   "metadata": {},
   "source": [
    "* Bin the purchase_data data frame by age\n",
    "\n",
    "\n",
    "* Run basic calculations to obtain purchase count, avg. purchase price, avg. purchase total per person etc. in the table below\n",
    "\n",
    "\n",
    "* Create a summary data frame to hold the results\n",
    "\n",
    "\n",
    "* Optional: give the displayed data cleaner formatting\n",
    "\n",
    "\n",
    "* Display the summary data frame"
   ]
  },
  {
   "cell_type": "code",
   "execution_count": 7,
   "metadata": {},
   "outputs": [
    {
     "data": {
      "text/html": [
       "<style  type=\"text/css\" >\n",
       "</style><table id=\"T_f0251864_27a3_11ec_87fa_00d8610f0335\" ><thead>    <tr>        <th class=\"blank level0\" ></th>        <th class=\"col_heading level0 col0\" >Purchase Count</th>        <th class=\"col_heading level0 col1\" >Average Purchase Price</th>        <th class=\"col_heading level0 col2\" >Total Purchase Value</th>        <th class=\"col_heading level0 col3\" >Average Purchase Total per Person</th>    </tr>    <tr>        <th class=\"index_name level0\" >Age Group</th>        <th class=\"blank\" ></th>        <th class=\"blank\" ></th>        <th class=\"blank\" ></th>        <th class=\"blank\" ></th>    </tr></thead><tbody>\n",
       "                <tr>\n",
       "                        <th id=\"T_f0251864_27a3_11ec_87fa_00d8610f0335level0_row0\" class=\"row_heading level0 row0\" ><10</th>\n",
       "                        <td id=\"T_f0251864_27a3_11ec_87fa_00d8610f0335row0_col0\" class=\"data row0 col0\" >23</td>\n",
       "                        <td id=\"T_f0251864_27a3_11ec_87fa_00d8610f0335row0_col1\" class=\"data row0 col1\" >$3.35</td>\n",
       "                        <td id=\"T_f0251864_27a3_11ec_87fa_00d8610f0335row0_col2\" class=\"data row0 col2\" >$77.13</td>\n",
       "                        <td id=\"T_f0251864_27a3_11ec_87fa_00d8610f0335row0_col3\" class=\"data row0 col3\" >$4.54</td>\n",
       "            </tr>\n",
       "            <tr>\n",
       "                        <th id=\"T_f0251864_27a3_11ec_87fa_00d8610f0335level0_row1\" class=\"row_heading level0 row1\" >10-14</th>\n",
       "                        <td id=\"T_f0251864_27a3_11ec_87fa_00d8610f0335row1_col0\" class=\"data row1 col0\" >28</td>\n",
       "                        <td id=\"T_f0251864_27a3_11ec_87fa_00d8610f0335row1_col1\" class=\"data row1 col1\" >$2.96</td>\n",
       "                        <td id=\"T_f0251864_27a3_11ec_87fa_00d8610f0335row1_col2\" class=\"data row1 col2\" >$82.78</td>\n",
       "                        <td id=\"T_f0251864_27a3_11ec_87fa_00d8610f0335row1_col3\" class=\"data row1 col3\" >$3.76</td>\n",
       "            </tr>\n",
       "            <tr>\n",
       "                        <th id=\"T_f0251864_27a3_11ec_87fa_00d8610f0335level0_row2\" class=\"row_heading level0 row2\" >15-19</th>\n",
       "                        <td id=\"T_f0251864_27a3_11ec_87fa_00d8610f0335row2_col0\" class=\"data row2 col0\" >136</td>\n",
       "                        <td id=\"T_f0251864_27a3_11ec_87fa_00d8610f0335row2_col1\" class=\"data row2 col1\" >$3.04</td>\n",
       "                        <td id=\"T_f0251864_27a3_11ec_87fa_00d8610f0335row2_col2\" class=\"data row2 col2\" >$412.89</td>\n",
       "                        <td id=\"T_f0251864_27a3_11ec_87fa_00d8610f0335row2_col3\" class=\"data row2 col3\" >$3.86</td>\n",
       "            </tr>\n",
       "            <tr>\n",
       "                        <th id=\"T_f0251864_27a3_11ec_87fa_00d8610f0335level0_row3\" class=\"row_heading level0 row3\" >20-24</th>\n",
       "                        <td id=\"T_f0251864_27a3_11ec_87fa_00d8610f0335row3_col0\" class=\"data row3 col0\" >365</td>\n",
       "                        <td id=\"T_f0251864_27a3_11ec_87fa_00d8610f0335row3_col1\" class=\"data row3 col1\" >$3.05</td>\n",
       "                        <td id=\"T_f0251864_27a3_11ec_87fa_00d8610f0335row3_col2\" class=\"data row3 col2\" >$1,114.06</td>\n",
       "                        <td id=\"T_f0251864_27a3_11ec_87fa_00d8610f0335row3_col3\" class=\"data row3 col3\" >$4.32</td>\n",
       "            </tr>\n",
       "            <tr>\n",
       "                        <th id=\"T_f0251864_27a3_11ec_87fa_00d8610f0335level0_row4\" class=\"row_heading level0 row4\" >25-29</th>\n",
       "                        <td id=\"T_f0251864_27a3_11ec_87fa_00d8610f0335row4_col0\" class=\"data row4 col0\" >101</td>\n",
       "                        <td id=\"T_f0251864_27a3_11ec_87fa_00d8610f0335row4_col1\" class=\"data row4 col1\" >$2.90</td>\n",
       "                        <td id=\"T_f0251864_27a3_11ec_87fa_00d8610f0335row4_col2\" class=\"data row4 col2\" >$293.00</td>\n",
       "                        <td id=\"T_f0251864_27a3_11ec_87fa_00d8610f0335row4_col3\" class=\"data row4 col3\" >$3.81</td>\n",
       "            </tr>\n",
       "            <tr>\n",
       "                        <th id=\"T_f0251864_27a3_11ec_87fa_00d8610f0335level0_row5\" class=\"row_heading level0 row5\" >30-34</th>\n",
       "                        <td id=\"T_f0251864_27a3_11ec_87fa_00d8610f0335row5_col0\" class=\"data row5 col0\" >73</td>\n",
       "                        <td id=\"T_f0251864_27a3_11ec_87fa_00d8610f0335row5_col1\" class=\"data row5 col1\" >$2.93</td>\n",
       "                        <td id=\"T_f0251864_27a3_11ec_87fa_00d8610f0335row5_col2\" class=\"data row5 col2\" >$214.00</td>\n",
       "                        <td id=\"T_f0251864_27a3_11ec_87fa_00d8610f0335row5_col3\" class=\"data row5 col3\" >$4.12</td>\n",
       "            </tr>\n",
       "            <tr>\n",
       "                        <th id=\"T_f0251864_27a3_11ec_87fa_00d8610f0335level0_row6\" class=\"row_heading level0 row6\" >35-39</th>\n",
       "                        <td id=\"T_f0251864_27a3_11ec_87fa_00d8610f0335row6_col0\" class=\"data row6 col0\" >41</td>\n",
       "                        <td id=\"T_f0251864_27a3_11ec_87fa_00d8610f0335row6_col1\" class=\"data row6 col1\" >$3.60</td>\n",
       "                        <td id=\"T_f0251864_27a3_11ec_87fa_00d8610f0335row6_col2\" class=\"data row6 col2\" >$147.67</td>\n",
       "                        <td id=\"T_f0251864_27a3_11ec_87fa_00d8610f0335row6_col3\" class=\"data row6 col3\" >$4.76</td>\n",
       "            </tr>\n",
       "            <tr>\n",
       "                        <th id=\"T_f0251864_27a3_11ec_87fa_00d8610f0335level0_row7\" class=\"row_heading level0 row7\" >40+</th>\n",
       "                        <td id=\"T_f0251864_27a3_11ec_87fa_00d8610f0335row7_col0\" class=\"data row7 col0\" >13</td>\n",
       "                        <td id=\"T_f0251864_27a3_11ec_87fa_00d8610f0335row7_col1\" class=\"data row7 col1\" >$2.94</td>\n",
       "                        <td id=\"T_f0251864_27a3_11ec_87fa_00d8610f0335row7_col2\" class=\"data row7 col2\" >$38.24</td>\n",
       "                        <td id=\"T_f0251864_27a3_11ec_87fa_00d8610f0335row7_col3\" class=\"data row7 col3\" >$3.19</td>\n",
       "            </tr>\n",
       "    </tbody></table>"
      ],
      "text/plain": [
       "<pandas.io.formats.style.Styler at 0x26a9ff792e8>"
      ]
     },
     "execution_count": 7,
     "metadata": {},
     "output_type": "execute_result"
    }
   ],
   "source": [
    "#count the purchase by age group using .count()\n",
    "age_purchase_count = age_group[\"Purchase ID\"].count()\n",
    "\n",
    "#getting the average purchase price by age group using .mean()\n",
    "avg_age_purchase = age_group[\"Price\"].mean()\n",
    "\n",
    "#getting the total purchase by age group using .sum()\n",
    "total_age_purchase = age_group[\"Price\"].sum()\n",
    "\n",
    "#getting the average purchase per person by age group with arithmatic\n",
    "avg_purchase_total_age = total_age_purchase / age_count\n",
    "\n",
    "#creating new Data Frame to hold above new values created\n",
    "purchasing_age_df = pd.DataFrame({\"Purchase Count\": age_purchase_count,\n",
    "                                 \"Average Purchase Price\": avg_age_purchase,\n",
    "                                 \"Total Purchase Value\":total_age_purchase,\n",
    "                                 \"Average Purchase Total per Person\": avg_purchase_total_age})\n",
    "\n",
    "#formatting for cleaner data visuals\n",
    "purchasing_age_df.style.format({\"Average Purchase Price\":\"${:,.2f}\",\n",
    "                               \"Total Purchase Value\":\"${:,.2f}\",\n",
    "                               \"Average Purchase Total per Person\":\"${:,.2f}\"})\n"
   ]
  },
  {
   "cell_type": "markdown",
   "metadata": {},
   "source": [
    "## Top Spenders"
   ]
  },
  {
   "cell_type": "markdown",
   "metadata": {},
   "source": [
    "* Run basic calculations to obtain the results in the table below\n",
    "\n",
    "\n",
    "* Create a summary data frame to hold the results\n",
    "\n",
    "\n",
    "* Sort the total purchase value column in descending order\n",
    "\n",
    "\n",
    "* Optional: give the displayed data cleaner formatting\n",
    "\n",
    "\n",
    "* Display a preview of the summary data frame\n",
    "\n"
   ]
  },
  {
   "cell_type": "code",
   "execution_count": 8,
   "metadata": {},
   "outputs": [
    {
     "data": {
      "text/html": [
       "<style  type=\"text/css\" >\n",
       "</style><table id=\"T_f2b1893e_27a3_11ec_864d_00d8610f0335\" ><thead>    <tr>        <th class=\"blank level0\" ></th>        <th class=\"col_heading level0 col0\" >Purchase Count</th>        <th class=\"col_heading level0 col1\" >Average Purchase Price</th>        <th class=\"col_heading level0 col2\" >Total Purchase Value</th>    </tr>    <tr>        <th class=\"index_name level0\" >SN</th>        <th class=\"blank\" ></th>        <th class=\"blank\" ></th>        <th class=\"blank\" ></th>    </tr></thead><tbody>\n",
       "                <tr>\n",
       "                        <th id=\"T_f2b1893e_27a3_11ec_864d_00d8610f0335level0_row0\" class=\"row_heading level0 row0\" >Lisosia93</th>\n",
       "                        <td id=\"T_f2b1893e_27a3_11ec_864d_00d8610f0335row0_col0\" class=\"data row0 col0\" >5</td>\n",
       "                        <td id=\"T_f2b1893e_27a3_11ec_864d_00d8610f0335row0_col1\" class=\"data row0 col1\" >$3.79</td>\n",
       "                        <td id=\"T_f2b1893e_27a3_11ec_864d_00d8610f0335row0_col2\" class=\"data row0 col2\" >$18.96</td>\n",
       "            </tr>\n",
       "            <tr>\n",
       "                        <th id=\"T_f2b1893e_27a3_11ec_864d_00d8610f0335level0_row1\" class=\"row_heading level0 row1\" >Idastidru52</th>\n",
       "                        <td id=\"T_f2b1893e_27a3_11ec_864d_00d8610f0335row1_col0\" class=\"data row1 col0\" >4</td>\n",
       "                        <td id=\"T_f2b1893e_27a3_11ec_864d_00d8610f0335row1_col1\" class=\"data row1 col1\" >$3.86</td>\n",
       "                        <td id=\"T_f2b1893e_27a3_11ec_864d_00d8610f0335row1_col2\" class=\"data row1 col2\" >$15.45</td>\n",
       "            </tr>\n",
       "            <tr>\n",
       "                        <th id=\"T_f2b1893e_27a3_11ec_864d_00d8610f0335level0_row2\" class=\"row_heading level0 row2\" >Chamjask73</th>\n",
       "                        <td id=\"T_f2b1893e_27a3_11ec_864d_00d8610f0335row2_col0\" class=\"data row2 col0\" >3</td>\n",
       "                        <td id=\"T_f2b1893e_27a3_11ec_864d_00d8610f0335row2_col1\" class=\"data row2 col1\" >$4.61</td>\n",
       "                        <td id=\"T_f2b1893e_27a3_11ec_864d_00d8610f0335row2_col2\" class=\"data row2 col2\" >$13.83</td>\n",
       "            </tr>\n",
       "            <tr>\n",
       "                        <th id=\"T_f2b1893e_27a3_11ec_864d_00d8610f0335level0_row3\" class=\"row_heading level0 row3\" >Iral74</th>\n",
       "                        <td id=\"T_f2b1893e_27a3_11ec_864d_00d8610f0335row3_col0\" class=\"data row3 col0\" >4</td>\n",
       "                        <td id=\"T_f2b1893e_27a3_11ec_864d_00d8610f0335row3_col1\" class=\"data row3 col1\" >$3.40</td>\n",
       "                        <td id=\"T_f2b1893e_27a3_11ec_864d_00d8610f0335row3_col2\" class=\"data row3 col2\" >$13.62</td>\n",
       "            </tr>\n",
       "            <tr>\n",
       "                        <th id=\"T_f2b1893e_27a3_11ec_864d_00d8610f0335level0_row4\" class=\"row_heading level0 row4\" >Iskadarya95</th>\n",
       "                        <td id=\"T_f2b1893e_27a3_11ec_864d_00d8610f0335row4_col0\" class=\"data row4 col0\" >3</td>\n",
       "                        <td id=\"T_f2b1893e_27a3_11ec_864d_00d8610f0335row4_col1\" class=\"data row4 col1\" >$4.37</td>\n",
       "                        <td id=\"T_f2b1893e_27a3_11ec_864d_00d8610f0335row4_col2\" class=\"data row4 col2\" >$13.10</td>\n",
       "            </tr>\n",
       "    </tbody></table>"
      ],
      "text/plain": [
       "<pandas.io.formats.style.Styler at 0x26a9ff95240>"
      ]
     },
     "execution_count": 8,
     "metadata": {},
     "output_type": "execute_result"
    }
   ],
   "source": [
    "#group data set by \"SN\"\n",
    "#fun fact: people who spend lots of money inside a game are called whales by other gamers\n",
    "whales = purchase_data.groupby(\"SN\")\n",
    "\n",
    "#getting the purchase count by \"SN\" using .count()\n",
    "sn_purchase = whales[\"Purchase ID\"].count()\n",
    "\n",
    "#getting the average purchase price by \"SN\" using .mean()\n",
    "avg_sn_purchase = whales[\"Price\"].mean()\n",
    "\n",
    "#getting the total purchase by \"SN\" using .sum()\n",
    "total_sn_purchase = whales[\"Price\"].sum()\n",
    "\n",
    "#creating a new Data Frame to hold the new values above\n",
    "top_whales = pd.DataFrame({\"Purchase Count\": sn_purchase, \"Average Purchase Price\": avg_sn_purchase,\n",
    "                           \"Total Purchase Value\": total_sn_purchase})\n",
    "\n",
    "#sorting in descending order for the top 5 \"SN\" using .head()\n",
    "top_whales_sorted = top_whales.sort_values([\"Total Purchase Value\"], ascending=False).head()\n",
    "\n",
    "#formatting for cleaner data visuals\n",
    "top_whales_sorted.style.format({\"Average Purchase Total\":\"${:,.2f}\", \"Average Purchase Price\":\"${:,.2f}\",\n",
    "                                 \"Total Purchase Value\":\"${:,.2f}\"})\n"
   ]
  },
  {
   "cell_type": "markdown",
   "metadata": {},
   "source": [
    "## Most Popular Items"
   ]
  },
  {
   "cell_type": "markdown",
   "metadata": {},
   "source": [
    "* Retrieve the Item ID, Item Name, and Item Price columns\n",
    "\n",
    "\n",
    "* Group by Item ID and Item Name. Perform calculations to obtain purchase count, average item price, and total purchase value\n",
    "\n",
    "\n",
    "* Create a summary data frame to hold the results\n",
    "\n",
    "\n",
    "* Sort the purchase count column in descending order\n",
    "\n",
    "\n",
    "* Optional: give the displayed data cleaner formatting\n",
    "\n",
    "\n",
    "* Display a preview of the summary data frame\n",
    "\n"
   ]
  },
  {
   "cell_type": "code",
   "execution_count": 10,
   "metadata": {},
   "outputs": [
    {
     "data": {
      "text/html": [
       "<style  type=\"text/css\" >\n",
       "</style><table id=\"T_6c0db84c_27a7_11ec_9412_00d8610f0335\" ><thead>    <tr>        <th class=\"blank\" ></th>        <th class=\"blank level0\" ></th>        <th class=\"col_heading level0 col0\" >Purchase Count</th>        <th class=\"col_heading level0 col1\" >Item Price</th>        <th class=\"col_heading level0 col2\" >Total Purchase Value</th>    </tr>    <tr>        <th class=\"index_name level0\" >Item ID</th>        <th class=\"index_name level1\" >Item Name</th>        <th class=\"blank\" ></th>        <th class=\"blank\" ></th>        <th class=\"blank\" ></th>    </tr></thead><tbody>\n",
       "                <tr>\n",
       "                        <th id=\"T_6c0db84c_27a7_11ec_9412_00d8610f0335level0_row0\" class=\"row_heading level0 row0\" >92</th>\n",
       "                        <th id=\"T_6c0db84c_27a7_11ec_9412_00d8610f0335level1_row0\" class=\"row_heading level1 row0\" >Final Critic</th>\n",
       "                        <td id=\"T_6c0db84c_27a7_11ec_9412_00d8610f0335row0_col0\" class=\"data row0 col0\" >13</td>\n",
       "                        <td id=\"T_6c0db84c_27a7_11ec_9412_00d8610f0335row0_col1\" class=\"data row0 col1\" >$4.61</td>\n",
       "                        <td id=\"T_6c0db84c_27a7_11ec_9412_00d8610f0335row0_col2\" class=\"data row0 col2\" >$59.99</td>\n",
       "            </tr>\n",
       "            <tr>\n",
       "                        <th id=\"T_6c0db84c_27a7_11ec_9412_00d8610f0335level0_row1\" class=\"row_heading level0 row1\" >178</th>\n",
       "                        <th id=\"T_6c0db84c_27a7_11ec_9412_00d8610f0335level1_row1\" class=\"row_heading level1 row1\" >Oathbreaker, Last Hope of the Breaking Storm</th>\n",
       "                        <td id=\"T_6c0db84c_27a7_11ec_9412_00d8610f0335row1_col0\" class=\"data row1 col0\" >12</td>\n",
       "                        <td id=\"T_6c0db84c_27a7_11ec_9412_00d8610f0335row1_col1\" class=\"data row1 col1\" >$4.23</td>\n",
       "                        <td id=\"T_6c0db84c_27a7_11ec_9412_00d8610f0335row1_col2\" class=\"data row1 col2\" >$50.76</td>\n",
       "            </tr>\n",
       "            <tr>\n",
       "                        <th id=\"T_6c0db84c_27a7_11ec_9412_00d8610f0335level0_row2\" class=\"row_heading level0 row2\" >145</th>\n",
       "                        <th id=\"T_6c0db84c_27a7_11ec_9412_00d8610f0335level1_row2\" class=\"row_heading level1 row2\" >Fiery Glass Crusader</th>\n",
       "                        <td id=\"T_6c0db84c_27a7_11ec_9412_00d8610f0335row2_col0\" class=\"data row2 col0\" >9</td>\n",
       "                        <td id=\"T_6c0db84c_27a7_11ec_9412_00d8610f0335row2_col1\" class=\"data row2 col1\" >$4.58</td>\n",
       "                        <td id=\"T_6c0db84c_27a7_11ec_9412_00d8610f0335row2_col2\" class=\"data row2 col2\" >$41.22</td>\n",
       "            </tr>\n",
       "            <tr>\n",
       "                        <th id=\"T_6c0db84c_27a7_11ec_9412_00d8610f0335level0_row3\" class=\"row_heading level0 row3\" >132</th>\n",
       "                        <th id=\"T_6c0db84c_27a7_11ec_9412_00d8610f0335level1_row3\" class=\"row_heading level1 row3\" >Persuasion</th>\n",
       "                        <td id=\"T_6c0db84c_27a7_11ec_9412_00d8610f0335row3_col0\" class=\"data row3 col0\" >9</td>\n",
       "                        <td id=\"T_6c0db84c_27a7_11ec_9412_00d8610f0335row3_col1\" class=\"data row3 col1\" >$3.22</td>\n",
       "                        <td id=\"T_6c0db84c_27a7_11ec_9412_00d8610f0335row3_col2\" class=\"data row3 col2\" >$28.99</td>\n",
       "            </tr>\n",
       "            <tr>\n",
       "                        <th id=\"T_6c0db84c_27a7_11ec_9412_00d8610f0335level0_row4\" class=\"row_heading level0 row4\" >108</th>\n",
       "                        <th id=\"T_6c0db84c_27a7_11ec_9412_00d8610f0335level1_row4\" class=\"row_heading level1 row4\" >Extraction, Quickblade Of Trembling Hands</th>\n",
       "                        <td id=\"T_6c0db84c_27a7_11ec_9412_00d8610f0335row4_col0\" class=\"data row4 col0\" >9</td>\n",
       "                        <td id=\"T_6c0db84c_27a7_11ec_9412_00d8610f0335row4_col1\" class=\"data row4 col1\" >$3.53</td>\n",
       "                        <td id=\"T_6c0db84c_27a7_11ec_9412_00d8610f0335row4_col2\" class=\"data row4 col2\" >$31.77</td>\n",
       "            </tr>\n",
       "    </tbody></table>"
      ],
      "text/plain": [
       "<pandas.io.formats.style.Styler at 0x26aa2884128>"
      ]
     },
     "execution_count": 10,
     "metadata": {},
     "output_type": "execute_result"
    }
   ],
   "source": [
    "#creating a new Data Frame to hold \"Item ID\", \"Item Name\", and \"Price\" columns\n",
    "items_df = purchase_data[[\"Item ID\", \"Item Name\", \"Price\"]]\n",
    "\n",
    "#grouping by \"Item ID\" and \"Item Name\" using .groupby()\n",
    "items_group = items_df.groupby([\"Item ID\", \"Item Name\"])\n",
    "\n",
    "#getting the purchase count of items using .count()\n",
    "item_purchase = items_group[\"Price\"].count()\n",
    "\n",
    "#getting the total purchase value using .sum()\n",
    "item_purchase_total = items_group[\"Price\"].sum()\n",
    "\n",
    "#getting the individual item price using arithmatic\n",
    "single_item_price = item_purchase_total / item_purchase\n",
    "\n",
    "#creating Data Frame to hold values above\n",
    "popular_items = pd.DataFrame({\"Purchase Count\": item_purchase, \"Item Price\": single_item_price,\n",
    "                              \"Total Purchase Value\": item_purchase_total})\n",
    "\n",
    "#sorting in descending order and getting the top 5 item names using .head()\n",
    "popular_items_format = popular_items.sort_values([\"Purchase Count\"], ascending=False).head()\n",
    "\n",
    "#formatting for cleaner data visuals\n",
    "popular_items_format.style.format({\"Item Price\":\"${:,.2f}\", \"Total Purchase Value\":\"${:,.2f}\"})"
   ]
  },
  {
   "cell_type": "markdown",
   "metadata": {},
   "source": [
    "## Most Profitable Items"
   ]
  },
  {
   "cell_type": "markdown",
   "metadata": {},
   "source": [
    "* Sort the above table by total purchase value in descending order\n",
    "\n",
    "\n",
    "* Optional: give the displayed data cleaner formatting\n",
    "\n",
    "\n",
    "* Display a preview of the data frame\n",
    "\n"
   ]
  },
  {
   "cell_type": "code",
   "execution_count": 11,
   "metadata": {
    "scrolled": true
   },
   "outputs": [
    {
     "data": {
      "text/html": [
       "<style  type=\"text/css\" >\n",
       "</style><table id=\"T_ed6c7824_27a7_11ec_8d64_00d8610f0335\" ><thead>    <tr>        <th class=\"blank\" ></th>        <th class=\"blank level0\" ></th>        <th class=\"col_heading level0 col0\" >Purchase Count</th>        <th class=\"col_heading level0 col1\" >Item Price</th>        <th class=\"col_heading level0 col2\" >Total Purchase Value</th>    </tr>    <tr>        <th class=\"index_name level0\" >Item ID</th>        <th class=\"index_name level1\" >Item Name</th>        <th class=\"blank\" ></th>        <th class=\"blank\" ></th>        <th class=\"blank\" ></th>    </tr></thead><tbody>\n",
       "                <tr>\n",
       "                        <th id=\"T_ed6c7824_27a7_11ec_8d64_00d8610f0335level0_row0\" class=\"row_heading level0 row0\" >92</th>\n",
       "                        <th id=\"T_ed6c7824_27a7_11ec_8d64_00d8610f0335level1_row0\" class=\"row_heading level1 row0\" >Final Critic</th>\n",
       "                        <td id=\"T_ed6c7824_27a7_11ec_8d64_00d8610f0335row0_col0\" class=\"data row0 col0\" >13</td>\n",
       "                        <td id=\"T_ed6c7824_27a7_11ec_8d64_00d8610f0335row0_col1\" class=\"data row0 col1\" >$4.61</td>\n",
       "                        <td id=\"T_ed6c7824_27a7_11ec_8d64_00d8610f0335row0_col2\" class=\"data row0 col2\" >$59.99</td>\n",
       "            </tr>\n",
       "            <tr>\n",
       "                        <th id=\"T_ed6c7824_27a7_11ec_8d64_00d8610f0335level0_row1\" class=\"row_heading level0 row1\" >178</th>\n",
       "                        <th id=\"T_ed6c7824_27a7_11ec_8d64_00d8610f0335level1_row1\" class=\"row_heading level1 row1\" >Oathbreaker, Last Hope of the Breaking Storm</th>\n",
       "                        <td id=\"T_ed6c7824_27a7_11ec_8d64_00d8610f0335row1_col0\" class=\"data row1 col0\" >12</td>\n",
       "                        <td id=\"T_ed6c7824_27a7_11ec_8d64_00d8610f0335row1_col1\" class=\"data row1 col1\" >$4.23</td>\n",
       "                        <td id=\"T_ed6c7824_27a7_11ec_8d64_00d8610f0335row1_col2\" class=\"data row1 col2\" >$50.76</td>\n",
       "            </tr>\n",
       "            <tr>\n",
       "                        <th id=\"T_ed6c7824_27a7_11ec_8d64_00d8610f0335level0_row2\" class=\"row_heading level0 row2\" >82</th>\n",
       "                        <th id=\"T_ed6c7824_27a7_11ec_8d64_00d8610f0335level1_row2\" class=\"row_heading level1 row2\" >Nirvana</th>\n",
       "                        <td id=\"T_ed6c7824_27a7_11ec_8d64_00d8610f0335row2_col0\" class=\"data row2 col0\" >9</td>\n",
       "                        <td id=\"T_ed6c7824_27a7_11ec_8d64_00d8610f0335row2_col1\" class=\"data row2 col1\" >$4.90</td>\n",
       "                        <td id=\"T_ed6c7824_27a7_11ec_8d64_00d8610f0335row2_col2\" class=\"data row2 col2\" >$44.10</td>\n",
       "            </tr>\n",
       "            <tr>\n",
       "                        <th id=\"T_ed6c7824_27a7_11ec_8d64_00d8610f0335level0_row3\" class=\"row_heading level0 row3\" >145</th>\n",
       "                        <th id=\"T_ed6c7824_27a7_11ec_8d64_00d8610f0335level1_row3\" class=\"row_heading level1 row3\" >Fiery Glass Crusader</th>\n",
       "                        <td id=\"T_ed6c7824_27a7_11ec_8d64_00d8610f0335row3_col0\" class=\"data row3 col0\" >9</td>\n",
       "                        <td id=\"T_ed6c7824_27a7_11ec_8d64_00d8610f0335row3_col1\" class=\"data row3 col1\" >$4.58</td>\n",
       "                        <td id=\"T_ed6c7824_27a7_11ec_8d64_00d8610f0335row3_col2\" class=\"data row3 col2\" >$41.22</td>\n",
       "            </tr>\n",
       "            <tr>\n",
       "                        <th id=\"T_ed6c7824_27a7_11ec_8d64_00d8610f0335level0_row4\" class=\"row_heading level0 row4\" >103</th>\n",
       "                        <th id=\"T_ed6c7824_27a7_11ec_8d64_00d8610f0335level1_row4\" class=\"row_heading level1 row4\" >Singed Scalpel</th>\n",
       "                        <td id=\"T_ed6c7824_27a7_11ec_8d64_00d8610f0335row4_col0\" class=\"data row4 col0\" >8</td>\n",
       "                        <td id=\"T_ed6c7824_27a7_11ec_8d64_00d8610f0335row4_col1\" class=\"data row4 col1\" >$4.35</td>\n",
       "                        <td id=\"T_ed6c7824_27a7_11ec_8d64_00d8610f0335row4_col2\" class=\"data row4 col2\" >$34.80</td>\n",
       "            </tr>\n",
       "    </tbody></table>"
      ],
      "text/plain": [
       "<pandas.io.formats.style.Styler at 0x26aa2518518>"
      ]
     },
     "execution_count": 11,
     "metadata": {},
     "output_type": "execute_result"
    }
   ],
   "source": [
    "#using the Data Frame above and change the .sort_values by \"Total Purchase Value\" \n",
    "#sorting in descending order and getting the top 5 item names using .head()\n",
    "popular_items_format = popular_items.sort_values([\"Total Purchase Value\"], ascending=False).head()\n",
    "\n",
    "#formatting for cleaner data visuals\n",
    "popular_items_format.style.format({\"Item Price\":\"${:,.2f}\", \"Total Purchase Value\":\"${:,.2f}\"})\n"
   ]
  },
  {
   "cell_type": "code",
   "execution_count": null,
   "metadata": {},
   "outputs": [],
   "source": []
  }
 ],
 "metadata": {
  "anaconda-cloud": {},
  "kernel_info": {
   "name": "python3"
  },
  "kernelspec": {
   "display_name": "Python 3",
   "language": "python",
   "name": "python3"
  },
  "language_info": {
   "codemirror_mode": {
    "name": "ipython",
    "version": 3
   },
   "file_extension": ".py",
   "mimetype": "text/x-python",
   "name": "python",
   "nbconvert_exporter": "python",
   "pygments_lexer": "ipython3",
   "version": "3.6.10"
  },
  "latex_envs": {
   "LaTeX_envs_menu_present": true,
   "autoclose": false,
   "autocomplete": true,
   "bibliofile": "biblio.bib",
   "cite_by": "apalike",
   "current_citInitial": 1,
   "eqLabelWithNumbers": true,
   "eqNumInitial": 1,
   "hotkeys": {
    "equation": "Ctrl-E",
    "itemize": "Ctrl-I"
   },
   "labels_anchors": false,
   "latex_user_defs": false,
   "report_style_numbering": false,
   "user_envs_cfg": false
  },
  "nteract": {
   "version": "0.2.0"
  }
 },
 "nbformat": 4,
 "nbformat_minor": 2
}
